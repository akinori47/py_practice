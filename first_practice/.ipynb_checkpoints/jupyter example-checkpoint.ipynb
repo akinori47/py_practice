{
 "cells": [
  {
   "cell_type": "code",
   "execution_count": 2,
   "metadata": {
    "scrolled": true
   },
   "outputs": [
    {
     "name": "stdout",
     "output_type": "stream",
     "text": [
      "0.6\n"
     ]
    }
   ],
   "source": [
    "b = 0.5+ 0.1\n",
    "print(b)\n"
   ]
  },
  {
   "cell_type": "code",
   "execution_count": null,
   "metadata": {
    "scrolled": true
   },
   "outputs": [
    {
     "data": {
      "text/plain": [
       "['__add__',\n",
       " '__class__',\n",
       " '__contains__',\n",
       " '__delattr__',\n",
       " '__dir__',\n",
       " '__doc__',\n",
       " '__eq__',\n",
       " '__format__',\n",
       " '__ge__',\n",
       " '__getattribute__',\n",
       " '__getitem__',\n",
       " '__getnewargs__',\n",
       " '__gt__',\n",
       " '__hash__',\n",
       " '__init__',\n",
       " '__init_subclass__',\n",
       " '__iter__',\n",
       " '__le__',\n",
       " '__len__',\n",
       " '__lt__',\n",
       " '__mod__',\n",
       " '__mul__',\n",
       " '__ne__',\n",
       " '__new__',\n",
       " '__reduce__',\n",
       " '__reduce_ex__',\n",
       " '__repr__',\n",
       " '__rmod__',\n",
       " '__rmul__',\n",
       " '__setattr__',\n",
       " '__sizeof__',\n",
       " '__str__',\n",
       " '__subclasshook__',\n",
       " 'capitalize',\n",
       " 'casefold',\n",
       " 'center',\n",
       " 'count',\n",
       " 'encode',\n",
       " 'endswith',\n",
       " 'expandtabs',\n",
       " 'find',\n",
       " 'format',\n",
       " 'format_map',\n",
       " 'index',\n",
       " 'isalnum',\n",
       " 'isalpha',\n",
       " 'isdecimal',\n",
       " 'isdigit',\n",
       " 'isidentifier',\n",
       " 'islower',\n",
       " 'isnumeric',\n",
       " 'isprintable',\n",
       " 'isspace',\n",
       " 'istitle',\n",
       " 'isupper',\n",
       " 'join',\n",
       " 'ljust',\n",
       " 'lower',\n",
       " 'lstrip',\n",
       " 'maketrans',\n",
       " 'partition',\n",
       " 'replace',\n",
       " 'rfind',\n",
       " 'rindex',\n",
       " 'rjust',\n",
       " 'rpartition',\n",
       " 'rsplit',\n",
       " 'rstrip',\n",
       " 'split',\n",
       " 'splitlines',\n",
       " 'startswith',\n",
       " 'strip',\n",
       " 'swapcase',\n",
       " 'title',\n",
       " 'translate',\n",
       " 'upper',\n",
       " 'zfill']"
      ]
     },
     "execution_count": 6,
     "metadata": {},
     "output_type": "execute_result"
    }
   ],
   "source": [
    "dir(str)"
   ]
  },
  {
   "cell_type": "code",
   "execution_count": 1,
   "metadata": {
    "scrolled": true
   },
   "outputs": [
    {
     "name": "stdout",
     "output_type": "stream",
     "text": [
      "1\n",
      "Buzz\n",
      "Fizz\n",
      "Buzz\n",
      "5\n",
      "FizzBuzz\n",
      "7\n",
      "Buzz\n",
      "Fizz\n",
      "Buzz\n",
      "11\n",
      "FizzBuzz\n",
      "13\n",
      "Buzz\n",
      "Fizz\n",
      "Buzz\n",
      "17\n",
      "FizzBuzz\n",
      "19\n",
      "Buzz\n",
      "Fizz\n",
      "Buzz\n",
      "23\n",
      "FizzBuzz\n",
      "25\n",
      "Buzz\n",
      "Fizz\n",
      "Buzz\n",
      "29\n",
      "FizzBuzz\n",
      "31\n",
      "Buzz\n",
      "Fizz\n",
      "Buzz\n",
      "35\n",
      "FizzBuzz\n",
      "37\n",
      "Buzz\n",
      "Fizz\n",
      "Buzz\n",
      "41\n",
      "FizzBuzz\n",
      "43\n",
      "Buzz\n",
      "Fizz\n",
      "Buzz\n",
      "47\n",
      "FizzBuzz\n",
      "49\n",
      "Buzz\n",
      "Fizz\n",
      "Buzz\n",
      "53\n",
      "FizzBuzz\n",
      "55\n",
      "Buzz\n",
      "Fizz\n",
      "Buzz\n",
      "59\n",
      "FizzBuzz\n",
      "61\n",
      "Buzz\n",
      "Fizz\n",
      "Buzz\n",
      "65\n",
      "FizzBuzz\n",
      "67\n",
      "Buzz\n",
      "Fizz\n",
      "Buzz\n",
      "71\n",
      "FizzBuzz\n",
      "73\n",
      "Buzz\n",
      "Fizz\n",
      "Buzz\n",
      "77\n",
      "FizzBuzz\n",
      "79\n",
      "Buzz\n",
      "Fizz\n",
      "Buzz\n",
      "83\n",
      "FizzBuzz\n",
      "85\n",
      "Buzz\n",
      "Fizz\n",
      "Buzz\n",
      "89\n",
      "FizzBuzz\n",
      "91\n",
      "Buzz\n",
      "Fizz\n",
      "Buzz\n",
      "95\n",
      "FizzBuzz\n",
      "97\n",
      "Buzz\n",
      "Fizz\n",
      "Buzz\n"
     ]
    }
   ],
   "source": [
    "for number in range(1, 101):\n",
    "    result = ''\n",
    "    \n",
    "    if number % 3 == 0:\n",
    "        result += 'Fizz'\n",
    "        \n",
    "    if number % 2 == 0:\n",
    "        result += 'Buzz'\n",
    "        \n",
    "    print (result or number)    "
   ]
  },
  {
   "cell_type": "code",
   "execution_count": 9,
   "metadata": {
    "scrolled": true
   },
   "outputs": [
    {
     "name": "stdout",
     "output_type": "stream",
     "text": [
      "nginx\n"
     ]
    }
   ],
   "source": [
    "from urllib import request\n",
    "print(request.urlopen('http://194.0.219.190').getheader('Server'))"
   ]
  },
  {
   "cell_type": "code",
   "execution_count": 4,
   "metadata": {
    "scrolled": false
   },
   "outputs": [
    {
     "name": "stdout",
     "output_type": "stream",
     "text": [
      "[1, 2, 3, 4, 5, 6, 7, 8, 9, 10]\n",
      "[3, 4, 5, 6, 7, 8, 9]\n",
      "[3, 4, 5, 6, 7, 8, 9, 10]\n",
      "[3, 4, 5, 6, 7, 8, 9, 10]\n",
      "[3, 4]\n",
      "[1, 2, 3, 4]\n",
      "[1, 3, 5, 7, 9]\n",
      "[1, 3, 5, 7, 9]\n",
      "10\n",
      "[10, 9, 8, 7, 6, 5, 4, 3]\n",
      "[10, 9, 8, 7, 6, 5, 4, 3, 2, 1]\n"
     ]
    }
   ],
   "source": [
    "example_list = [1,2,3,4,5,6,7,8,9,10]\n",
    "\n",
    "# срезы\n",
    "print(example_list)\n",
    "print(example_list[2:-1])\n",
    "print(example_list[2:len(example_list)])\n",
    "print(example_list[2:])\n",
    "print(example_list[2:4])\n",
    "print(example_list[:4])\n",
    "print(example_list[0:len(example_list):2])\n",
    "print(example_list[::2])\n",
    "print(example_list[-1])\n",
    "print(example_list[-1:1:-1])\n",
    "print(example_list[::-1])"
   ]
  },
  {
   "cell_type": "code",
   "execution_count": null,
   "metadata": {},
   "outputs": [],
   "source": []
  }
 ],
 "metadata": {
  "kernelspec": {
   "display_name": "Python 3",
   "language": "python",
   "name": "python3"
  },
  "language_info": {
   "codemirror_mode": {
    "name": "ipython",
    "version": 3
   },
   "file_extension": ".py",
   "mimetype": "text/x-python",
   "name": "python",
   "nbconvert_exporter": "python",
   "pygments_lexer": "ipython3",
   "version": "3.6.5"
  },
  "widgets": {
   "application/vnd.jupyter.widget-state+json": {
    "state": {},
    "version_major": 2,
    "version_minor": 0
   }
  }
 },
 "nbformat": 4,
 "nbformat_minor": 1
}
